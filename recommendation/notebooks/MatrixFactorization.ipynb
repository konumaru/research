{
 "cells": [
  {
   "cell_type": "markdown",
   "id": "d3780af2-8c1d-4dd5-8bb3-b501925a0c1f",
   "metadata": {},
   "source": [
    "# Matrix Factorization From Scratch"
   ]
  },
  {
   "cell_type": "code",
   "execution_count": 1,
   "id": "841c3d63-8ce4-4b44-a477-62fc3abf3b79",
   "metadata": {},
   "outputs": [
    {
     "name": "stdout",
     "output_type": "stream",
     "text": [
      "Author: Ethen\n",
      "\n",
      "Python implementation: CPython\n",
      "Python version       : 3.9.7\n",
      "IPython version      : 7.28.0\n",
      "\n",
      "numpy     : 1.21.3\n",
      "pandas    : 1.3.4\n",
      "matplotlib: 3.5.1\n",
      "sklearn   : 1.0.1\n",
      "\n"
     ]
    }
   ],
   "source": [
    "%matplotlib inline\n",
    "%load_ext watermark\n",
    "%load_ext autoreload\n",
    "%autoreload 2\n",
    "%config InlineBackend.figure_format = 'retina'\n",
    "import os\n",
    "from subprocess import call\n",
    "\n",
    "import matplotlib.pyplot as plt\n",
    "import numpy as np\n",
    "import pandas as pd\n",
    "from sklearn.metrics import mean_squared_error\n",
    "\n",
    "plt.rcParams[\"figure.figsize\"] = 8, 6\n",
    "plt.rcParams[\"font.size\"] = 12\n",
    "\n",
    "%watermark -a 'Ethen' -d -t -v -p numpy,pandas,matplotlib,sklearn"
   ]
  },
  {
   "cell_type": "markdown",
   "id": "64d0ab3e-8792-4ca1-9733-f62baa53e392",
   "metadata": {},
   "source": [
    "## Load Data"
   ]
  },
  {
   "cell_type": "code",
   "execution_count": 2,
   "id": "5dad2a87-62c7-42ae-bd08-2a8c29a2b025",
   "metadata": {},
   "outputs": [
    {
     "name": "stderr",
     "output_type": "stream",
     "text": [
      "  % Total    % Received % Xferd  Average Speed   Time    Time     Time  Current\n",
      "                                 Dload  Upload   Total   Spent    Left  Speed\n",
      "100 4808k  100 4808k    0     0  2268k      0  0:00:02  0:00:02 --:--:-- 2271k\n"
     ]
    },
    {
     "name": "stdout",
     "output_type": "stream",
     "text": [
      "Archive:  ml-100k.zip\n",
      "   creating: ../data/ml-100k/\n",
      "  inflating: ../data/ml-100k/allbut.pl  \n",
      "  inflating: ../data/ml-100k/mku.sh  \n",
      "  inflating: ../data/ml-100k/README  \n",
      "  inflating: ../data/ml-100k/u.data  \n",
      "  inflating: ../data/ml-100k/u.genre  \n",
      "  inflating: ../data/ml-100k/u.info  \n",
      "  inflating: ../data/ml-100k/u.item  \n",
      "  inflating: ../data/ml-100k/u.occupation  \n",
      "  inflating: ../data/ml-100k/u.user  \n",
      "  inflating: ../data/ml-100k/u1.base  \n",
      "  inflating: ../data/ml-100k/u1.test  \n",
      "  inflating: ../data/ml-100k/u2.base  \n",
      "  inflating: ../data/ml-100k/u2.test  \n",
      "  inflating: ../data/ml-100k/u3.base  \n",
      "  inflating: ../data/ml-100k/u3.test  \n",
      "  inflating: ../data/ml-100k/u4.base  \n",
      "  inflating: ../data/ml-100k/u4.test  \n",
      "  inflating: ../data/ml-100k/u5.base  \n",
      "  inflating: ../data/ml-100k/u5.test  \n",
      "  inflating: ../data/ml-100k/ua.base  \n",
      "  inflating: ../data/ml-100k/ua.test  \n",
      "  inflating: ../data/ml-100k/ub.base  \n",
      "  inflating: ../data/ml-100k/ub.test  \n",
      "(100000, 4)\n"
     ]
    },
    {
     "data": {
      "text/html": [
       "<div>\n",
       "<style scoped>\n",
       "    .dataframe tbody tr th:only-of-type {\n",
       "        vertical-align: middle;\n",
       "    }\n",
       "\n",
       "    .dataframe tbody tr th {\n",
       "        vertical-align: top;\n",
       "    }\n",
       "\n",
       "    .dataframe thead th {\n",
       "        text-align: right;\n",
       "    }\n",
       "</style>\n",
       "<table border=\"1\" class=\"dataframe\">\n",
       "  <thead>\n",
       "    <tr style=\"text-align: right;\">\n",
       "      <th></th>\n",
       "      <th>user_id</th>\n",
       "      <th>item_id</th>\n",
       "      <th>rating</th>\n",
       "      <th>timestamp</th>\n",
       "    </tr>\n",
       "  </thead>\n",
       "  <tbody>\n",
       "    <tr>\n",
       "      <th>0</th>\n",
       "      <td>196</td>\n",
       "      <td>242</td>\n",
       "      <td>3</td>\n",
       "      <td>881250949</td>\n",
       "    </tr>\n",
       "    <tr>\n",
       "      <th>1</th>\n",
       "      <td>186</td>\n",
       "      <td>302</td>\n",
       "      <td>3</td>\n",
       "      <td>891717742</td>\n",
       "    </tr>\n",
       "    <tr>\n",
       "      <th>2</th>\n",
       "      <td>22</td>\n",
       "      <td>377</td>\n",
       "      <td>1</td>\n",
       "      <td>878887116</td>\n",
       "    </tr>\n",
       "    <tr>\n",
       "      <th>3</th>\n",
       "      <td>244</td>\n",
       "      <td>51</td>\n",
       "      <td>2</td>\n",
       "      <td>880606923</td>\n",
       "    </tr>\n",
       "    <tr>\n",
       "      <th>4</th>\n",
       "      <td>166</td>\n",
       "      <td>346</td>\n",
       "      <td>1</td>\n",
       "      <td>886397596</td>\n",
       "    </tr>\n",
       "  </tbody>\n",
       "</table>\n",
       "</div>"
      ],
      "text/plain": [
       "   user_id  item_id  rating  timestamp\n",
       "0      196      242       3  881250949\n",
       "1      186      302       3  891717742\n",
       "2       22      377       1  878887116\n",
       "3      244       51       2  880606923\n",
       "4      166      346       1  886397596"
      ]
     },
     "execution_count": 2,
     "metadata": {},
     "output_type": "execute_result"
    }
   ],
   "source": [
    "data_dir = \"../data/\"\n",
    "file_dir = os.path.join(data_dir, \"ml-100k\")\n",
    "file_path = os.path.join(data_dir, file_dir, \"u.data\")\n",
    "\n",
    "if not os.path.isdir(file_dir):\n",
    "    call([\"curl\", \"-O\", \"http://files.grouplens.org/datasets/movielens/ml-100k.zip\"])\n",
    "    call([\"unzip\", \"ml-100k.zip\", \"-d\", \"../data/\"])\n",
    "    call([\"rm\", \"ml-100k.zip\"])\n",
    "\n",
    "names = [\"user_id\", \"item_id\", \"rating\", \"timestamp\"]\n",
    "df = pd.read_csv(file_path, sep=\"\\t\", names=names)\n",
    "\n",
    "print(df.shape)\n",
    "df.head()"
   ]
  },
  {
   "cell_type": "code",
   "execution_count": 3,
   "id": "1fcd6d0b-f922-4647-8f18-59e6f20e0c5c",
   "metadata": {},
   "outputs": [
    {
     "name": "stdout",
     "output_type": "stream",
     "text": [
      "dimension:  (943, 1682)\n",
      "sparsity: 6.3%\n"
     ]
    },
    {
     "data": {
      "text/plain": [
       "array([[5., 3., 4., ..., 0., 0., 0.],\n",
       "       [4., 0., 0., ..., 0., 0., 0.],\n",
       "       [0., 0., 0., ..., 0., 0., 0.],\n",
       "       ...,\n",
       "       [5., 0., 0., ..., 0., 0., 0.],\n",
       "       [0., 0., 0., ..., 0., 0., 0.],\n",
       "       [0., 5., 0., ..., 0., 0., 0.]])"
      ]
     },
     "execution_count": 3,
     "metadata": {},
     "output_type": "execute_result"
    }
   ],
   "source": [
    "n_users = df[\"user_id\"].unique().shape[0]\n",
    "n_items = df[\"item_id\"].unique().shape[0]\n",
    "ratings = np.zeros((n_users, n_items))\n",
    "for row in df.itertuples(index=False):\n",
    "    ratings[row.user_id - 1, row.item_id - 1] = row.rating\n",
    "\n",
    "# Compute the non-zero elements in the rating matrix\n",
    "matrix_size = np.prod(ratings.shape)\n",
    "iteraction = np.flatnonzero(ratings).shape[0]\n",
    "sparsity = 100 * (iteraction / matrix_size)\n",
    "\n",
    "print(\"dimension: \", ratings.shape)\n",
    "print(\"sparsity: {:.1f}%\".format(sparsity))\n",
    "ratings"
   ]
  },
  {
   "cell_type": "code",
   "execution_count": 4,
   "id": "b989cdd4-5cc4-4f26-8369-3a2dd1026852",
   "metadata": {},
   "outputs": [
    {
     "data": {
      "image/png": "[encoded data removed]",
      "text/plain": [
       "<Figure size 576x432 with 1 Axes>"
      ]
     },
     "metadata": {
      "image/png": {
       "height": 392,
       "width": 502
      },
      "needs_background": "light"
     },
     "output_type": "display_data"
    }
   ],
   "source": [
    "plt.title(\"Each user rating count\")\n",
    "plt.xlabel(\"Rating count\")\n",
    "plt.hist(\n",
    "    np.sum(ratings != 0, axis=1),\n",
    "    histtype=\"stepfilled\",\n",
    "    bins=30,\n",
    "    alpha=0.85,\n",
    "    label=\"# of ratings\",\n",
    "    color=\"#7A68A6\",\n",
    "    density=True,\n",
    ")\n",
    "plt.axvline(x=10, color=\"black\", linestyle=\"--\")\n",
    "plt.legend(loc=\"upper right\")\n",
    "plt.show()"
   ]
  },
  {
   "cell_type": "code",
   "execution_count": 5,
   "id": "4c3d3757-a1e4-4b04-ba11-614768d9f9c5",
   "metadata": {},
   "outputs": [
    {
     "data": {
      "text/plain": [
       "array([[5., 3., 4., ..., 0., 0., 0.],\n",
       "       [4., 0., 0., ..., 0., 0., 0.],\n",
       "       [0., 0., 0., ..., 0., 0., 0.],\n",
       "       ...,\n",
       "       [0., 0., 0., ..., 0., 0., 0.],\n",
       "       [0., 0., 0., ..., 0., 0., 0.],\n",
       "       [0., 5., 0., ..., 0., 0., 0.]])"
      ]
     },
     "execution_count": 5,
     "metadata": {},
     "output_type": "execute_result"
    }
   ],
   "source": [
    "def create_train_test(ratings):\n",
    "    \"\"\"\n",
    "    split into training and test sets,\n",
    "    remove 10 ratings from each user\n",
    "    and assign them to the test set.\n",
    "    \"\"\"\n",
    "    test = np.zeros(ratings.shape)\n",
    "    train = ratings.copy()\n",
    "    for user in range(ratings.shape[0]):\n",
    "        test_index = np.random.choice(\n",
    "            np.flatnonzero(ratings[user]), size=10, replace=False\n",
    "        )\n",
    "\n",
    "        train[user, test_index] = 0.0\n",
    "        test[user, test_index] = ratings[user, test_index]\n",
    "\n",
    "    # Assert that training and testing set are truly disjoint\n",
    "    assert np.all(train * test == 0)\n",
    "    return train, test\n",
    "\n",
    "\n",
    "train, test = create_train_test(ratings)\n",
    "del ratings\n",
    "train"
   ]
  },
  {
   "cell_type": "markdown",
   "id": "93884fd6-dbaf-4627-a79a-a78959eaeffb",
   "metadata": {
    "tags": []
   },
   "source": [
    "## Matrix Factorization"
   ]
  },
  {
   "cell_type": "code",
   "execution_count": 6,
   "id": "d1ff7765-2f07-47b0-99f6-4ae460c69e53",
   "metadata": {},
   "outputs": [],
   "source": [
    "class ExplicitMF:\n",
    "    \"\"\"\n",
    "    Train a matrix factorization model using Alternating Least Squares\n",
    "    to predict empty entries in a matrix\n",
    "\n",
    "    Parameters\n",
    "    ----------\n",
    "    n_iters : int\n",
    "        number of iteractions to train the algorithm\n",
    "\n",
    "    n_factors : int\n",
    "        number of latent factors to use in matrix\n",
    "        factorization model, same machine-learning libraries\n",
    "        denote this as rank\n",
    "\n",
    "    reg : float\n",
    "        regularization term for item/user latent factors,\n",
    "        since lambda is a keyword in python we use reg instead\n",
    "    \"\"\"\n",
    "\n",
    "    def __init__(self, n_iters, n_factors, reg):\n",
    "        self.reg = reg\n",
    "        self.n_iters = n_iters\n",
    "        self.n_factors = n_factors\n",
    "\n",
    "    def fit(self, train, test):\n",
    "        \"\"\"\n",
    "        Pass in training and testing at the same time to record\n",
    "        model convergence, assuming both dataset is in the form\n",
    "        of User x Item matrix with cells as ratings\n",
    "        \"\"\"\n",
    "        self.n_user, self.n_item = train.shape\n",
    "        self.user_factors = np.random.random((self.n_user, self.n_factors))\n",
    "        self.item_factors = np.random.random((self.n_item, self.n_factors))\n",
    "\n",
    "        # Record the training and testing mse for every iteration\n",
    "        # to show convergence later (usualy, not worth it for production)\n",
    "        self.test_mse_record = []\n",
    "        self.train_mse_record = []\n",
    "        for _ in range(self.n_iters):\n",
    "            self.user_factors = self._als_step(\n",
    "                train, self.user_factors, self.item_factors\n",
    "            )\n",
    "            self.item_factors = self._als_step(\n",
    "                train.T, self.item_factors, self.user_factors\n",
    "            )\n",
    "\n",
    "            predictions = self.predict()\n",
    "\n",
    "            test_mse = self.compute_mse(test, predictions)\n",
    "            train_mse = self.compute_mse(train, predictions)\n",
    "            self.test_mse_record.append(test_mse)\n",
    "            self.train_mse_record.append(train_mse)\n",
    "\n",
    "        return self\n",
    "\n",
    "    def _als_step(self, ratings, solve_vecs, fixed_vecs):\n",
    "        \"\"\"\n",
    "        When updating the user matrix,\n",
    "        the item matrix is the fixed vector and vice versa\n",
    "        \"\"\"\n",
    "        A = fixed_vecs.T.dot(fixed_vecs) + np.eye(self.n_factors) * self.reg\n",
    "        b = ratings.dot(fixed_vecs)\n",
    "        A_inv = np.linalg.inv(A)\n",
    "        solve_vecs = b.dot(A_inv)\n",
    "        return solve_vecs\n",
    "\n",
    "    def predict(self):\n",
    "        \"\"\"\n",
    "        Predict ratings for every user and item\n",
    "        \"\"\"\n",
    "        pred = self.user_factors.dot(self.item_factors.T)\n",
    "        return pred\n",
    "\n",
    "    @staticmethod\n",
    "    def compute_mse(y_true, y_pred):\n",
    "        \"\"\"\n",
    "        Ignore zero terms prior to comparing the mse\n",
    "        \"\"\"\n",
    "        mask = np.nonzero(y_true)\n",
    "        mse = mean_squared_error(y_true[mask], y_pred[mask])\n",
    "        return mse"
   ]
  },
  {
   "cell_type": "code",
   "execution_count": 7,
   "id": "39a79648-452c-4cb6-9cef-c7917b377194",
   "metadata": {},
   "outputs": [
    {
     "data": {
      "text/plain": [
       "<__main__.ExplicitMF at 0xffff78bfd0a0>"
      ]
     },
     "execution_count": 7,
     "metadata": {},
     "output_type": "execute_result"
    }
   ],
   "source": [
    "als = ExplicitMF(n_iters=100, n_factors=40, reg=0.01)\n",
    "als.fit(train, test)"
   ]
  },
  {
   "cell_type": "code",
   "execution_count": 8,
   "id": "9af9cd3b-85a0-4a2b-83fb-0aa53614c00c",
   "metadata": {},
   "outputs": [
    {
     "data": {
      "image/png": "[encoded data removed]",
      "text/plain": [
       "<Figure size 576x432 with 1 Axes>"
      ]
     },
     "metadata": {
      "image/png": {
       "height": 375,
       "width": 491
      },
      "needs_background": "light"
     },
     "output_type": "display_data"
    }
   ],
   "source": [
    "def plot_learning_curve(model):\n",
    "    \"\"\"Visualize the training/testing loss\"\"\"\n",
    "    linewidth = 3\n",
    "    plt.plot(model.test_mse_record, label=\"Test\", linewidth=linewidth)\n",
    "    plt.plot(model.train_mse_record, label=\"Train\", linewidth=linewidth)\n",
    "    plt.xlabel(\"iterations\")\n",
    "    plt.ylabel(\"MSE\")\n",
    "    plt.legend(loc=\"best\")\n",
    "    plt.show()\n",
    "\n",
    "\n",
    "plot_learning_curve(als)"
   ]
  },
  {
   "cell_type": "markdown",
   "id": "0e1216fd-9327-4d35-af92-ca2b7778e8cc",
   "metadata": {},
   "source": [
    "## Glossary\n",
    "\n",
    "- ALS\n",
    "    - Alternating Least Square\n",
    "\n",
    "## Reference\n",
    "- https://nbviewer.org/github/ethen8181/machine-learning/blob/master/recsys/1_ALSWR.ipynb"
   ]
  }
 ],
 "metadata": {
  "kernelspec": {
   "display_name": "Python 3 (ipykernel)",
   "language": "python",
   "name": "python3"
  },
  "language_info": {
   "codemirror_mode": {
    "name": "ipython",
    "version": 3
   },
   "file_extension": ".py",
   "mimetype": "text/x-python",
   "name": "python",
   "nbconvert_exporter": "python",
   "pygments_lexer": "ipython3",
   "version": "3.9.7"
  }
 },
 "nbformat": 4,
 "nbformat_minor": 5
}
